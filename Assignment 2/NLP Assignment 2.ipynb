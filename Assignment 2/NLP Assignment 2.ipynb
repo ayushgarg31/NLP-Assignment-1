{
 "cells": [
  {
   "cell_type": "code",
   "execution_count": 150,
   "metadata": {},
   "outputs": [],
   "source": [
    "import re\n",
    "import math\n",
    "import nltk\n",
    "import numpy as np\n",
    "import matplotlib.pyplot as plt\n",
    "from scipy.optimize import curve_fit\n",
    "from nltk.tokenize import sent_tokenize"
   ]
  },
  {
   "cell_type": "code",
   "execution_count": 151,
   "metadata": {},
   "outputs": [],
   "source": [
    "def n_grams(lst, n):\n",
    "    count = {}\n",
    "    total_count = 0\n",
    "    for i, item in enumerate(lst):\n",
    "        x = item.split()\n",
    "        for j in range(len(x)-n+1):\n",
    "            y = []\n",
    "            for k in range(n):\n",
    "                y.append(x[j+k])\n",
    "                s = \" \".join(y)\n",
    "            count[s] = count.get(s, 0) + 1\n",
    "            total_count += 1\n",
    "    return count, total_count\n",
    "\n",
    "\n",
    "def MLE_calculation(n_grams, n_1_grams):\n",
    "    MLE = {}\n",
    "    for i in n_grams.keys():\n",
    "        lst = i.split()\n",
    "        MLE[i] = n_grams[i]/n_1_grams[' '.join(lst[:len(lst)-1])]\n",
    "    return MLE"
   ]
  },
  {
   "cell_type": "code",
   "execution_count": 152,
   "metadata": {},
   "outputs": [],
   "source": [
    "file = open(\"sherlock.txt\", 'r', encoding=\"utf8\")\n",
    "sentence_list = sent_tokenize(file.read())\n",
    "file.close()\n",
    "\n",
    "special_chars = re.compile('[`~!@#$%^&*()+={}|\\[\\]:\";<>?,\\./“”]')\n",
    "\n",
    "for i, item in enumerate(sentence_list):\n",
    "    text = item.replace(\"\\n\", \" \")\n",
    "    text = \"<s> \" + special_chars.sub(\"\", text) + \" </s>\"\n",
    "    text = text.lower()\n",
    "    sentence_list[i] = ' '.join(text.split())\n",
    "\n",
    "test = sentence_list[int(len(sentence_list)*0.8):]\n",
    "sentence_list = sentence_list[:int(len(sentence_list)*0.8)]"
   ]
  },
  {
   "cell_type": "code",
   "execution_count": 153,
   "metadata": {},
   "outputs": [],
   "source": [
    "unigrams, total_unigrams = n_grams(sentence_list, 1)\n",
    "bigrams, total_bigrams = n_grams(sentence_list, 2)\n",
    "trigrams, total_trigrams = n_grams(sentence_list, 3)\n",
    "quadgrams, total_quadgrams = n_grams(sentence_list, 4)"
   ]
  },
  {
   "cell_type": "code",
   "execution_count": 154,
   "metadata": {},
   "outputs": [],
   "source": [
    "MLE_unigrams = {}\n",
    "for i in unigrams.keys():\n",
    "    MLE_unigrams[i] = unigrams[i]/total_unigrams\n",
    "    \n",
    "MLE_bigrams = MLE_calculation(bigrams, unigrams)\n",
    "MLE_trigrams = MLE_calculation(trigrams, bigrams)\n",
    "MLE_quadgrams = MLE_calculation(quadgrams, trigrams)"
   ]
  },
  {
   "cell_type": "code",
   "execution_count": 155,
   "metadata": {},
   "outputs": [],
   "source": [
    "def conversion(n_grams):\n",
    "    d = {}\n",
    "    for i in n_grams.keys():\n",
    "        j = i.split()\n",
    "        k = j.pop(len(j)-1)\n",
    "        j = ' '.join(j)\n",
    "        if (j in d):\n",
    "            d[j][0].append(k)\n",
    "            d[j][1].append(n_grams[i])\n",
    "        else:\n",
    "            d[j] = [[],[]]\n",
    "            d[j][0].append(k)\n",
    "            d[j][1].append(n_grams[i])\n",
    "    return d\n",
    "\n",
    "\n",
    "uni = []\n",
    "probab = []\n",
    "for i in MLE_unigrams.keys():\n",
    "    uni.append(i)\n",
    "    probab.append(MLE_unigrams[i])\n",
    "bi = conversion(MLE_bigrams)\n",
    "tri = conversion(MLE_trigrams)\n",
    "quad = conversion(MLE_quadgrams)\n",
    "\n",
    "\n",
    "def next_word(n, last_n_1_gram):\n",
    "    l = [[],[]]\n",
    "    if (n == 1):\n",
    "        l[0] = uni\n",
    "        l[1] = probab\n",
    "    if (n == 2):\n",
    "        l = bi[last_n_1_gram]\n",
    "    if (n == 3):\n",
    "        l = tri[last_n_1_gram]\n",
    "    if (n == 4):\n",
    "        l = quad[last_n_1_gram]\n",
    "        \n",
    "    candidates = np.array(l[0])\n",
    "    probabilities = np.array(l[1])\n",
    "    word = np.random.choice(candidates, p=probabilities)\n",
    "    return word\n",
    "\n",
    "\n",
    "def string_Generator(n, string, last_n_1_gram):\n",
    "    word = next_word(n, last_n_1_gram)\n",
    "    if (word != \"<s>\"):\n",
    "        string = string + \" \" + word\n",
    "        last_n_1_gram = last_n_1_gram.split()\n",
    "        last_n_1_gram.append(word)\n",
    "        last_n_1_gram = ' '.join(last_n_1_gram[1:])\n",
    "    if (word == \"</s>\"):\n",
    "        return string\n",
    "    else:\n",
    "        return string_Generator(n, string, last_n_1_gram)\n",
    "\n",
    "\n",
    "def Generator(n):\n",
    "    string = \"<s>\"\n",
    "    if (n == 3):\n",
    "        word = next_word(2, string)\n",
    "        string = string + \" \" + word\n",
    "        if (word == \"</s>\"):\n",
    "            return string\n",
    "    elif (n == 4):\n",
    "        word = next_word(2, string)\n",
    "        string = string + \" \" + word\n",
    "        if (word == \"</s>\"):\n",
    "            return string\n",
    "        word = next_word(3, string)\n",
    "        string = string + \" \" + word\n",
    "        if (word == \"</s>\"):\n",
    "            return string\n",
    "\n",
    "    string = string_Generator(n, string, string)\n",
    "    return string"
   ]
  },
  {
   "cell_type": "code",
   "execution_count": 156,
   "metadata": {},
   "outputs": [
    {
     "name": "stdout",
     "output_type": "stream",
     "text": [
      "<s> it is my strong impression that i left this door shut just now </s>\n",
      "<s> it was early in april in the year 1858 </s>\n",
      "<s> there was a wild clatter of steps upon the linoleum </s>\n",
      "<s> in your heart of hearts do you think that neville is alive </s>\n",
      "<s> perhaps i have trained myself to see what others overlook </s>\n",
      "<s> i was speaking only half an hour i sat with straining ears </s>\n",
      "<s> well have you solved it </s>\n",
      "<s> i asked </s>\n",
      "<s> i sprang up and lit the lamp and examined it intently </s>\n",
      "<s> as far as my finger could reach </s>\n"
     ]
    }
   ],
   "source": [
    "for i in range(10):\n",
    "    print (Generator(4))"
   ]
  },
  {
   "cell_type": "code",
   "execution_count": 157,
   "metadata": {},
   "outputs": [],
   "source": [
    "def Probability(sentence, n):\n",
    "    text = sentence.replace(\"\\n\", \" \")\n",
    "    text = \"<s> \" + special_chars.sub(\"\", text) + \" </s>\"\n",
    "    text = text.lower()\n",
    "    sentence = text.split()\n",
    "    p = 0\n",
    "    try:\n",
    "        if (n == 1):\n",
    "            prob = MLE_unigrams\n",
    "            p = -1*math.log10(prob['<s>'])\n",
    "        elif (n == 2):\n",
    "            prob = MLE_bigrams\n",
    "        elif (n == 3):\n",
    "            prob = MLE_trigrams\n",
    "            p += math.log10(MLE_bigrams.get(' '.join(sentence[0:2]), 0))\n",
    "        else:\n",
    "            prob = MLE_quadgrams\n",
    "            p += math.log10(MLE_bigrams.get(' '.join(sentence[0:2]), 0))\n",
    "            p += math.log10(MLE_trigrams.get(' '.join(sentence[0:3]), 0))\n",
    "        for i in range(len(sentence)-n+1):\n",
    "            n_gram = ' '.join(sentence[i:i+n])\n",
    "            p += math.log10(prob.get(n_gram, 0))\n",
    "        return p\n",
    "    except ValueError:\n",
    "        print ('-infinity (sentence not possible.)')\n",
    "    \n",
    "        "
   ]
  },
  {
   "cell_type": "code",
   "execution_count": 158,
   "metadata": {},
   "outputs": [
    {
     "name": "stdout",
     "output_type": "stream",
     "text": [
      "-29.545375904186816\n"
     ]
    }
   ],
   "source": [
    "print (Probability('for a long time we did all the work of the house', 1))"
   ]
  },
  {
   "cell_type": "code",
   "execution_count": 159,
   "metadata": {},
   "outputs": [],
   "source": [
    "def add1_smoothed_count(bi_gram):\n",
    "    first = bi_gram.split()\n",
    "    first = first[0]\n",
    "    return ((1+bigrams.get(bi_gram, 0))/(unigrams[first]+len(unigrams.keys())))*unigrams[first]"
   ]
  },
  {
   "cell_type": "code",
   "execution_count": 160,
   "metadata": {},
   "outputs": [
    {
     "name": "stdout",
     "output_type": "stream",
     "text": [
      "37.718247545052336 264\n"
     ]
    }
   ],
   "source": [
    "print (add1_smoothed_count('it is'), bigrams.get('it is'))"
   ]
  },
  {
   "cell_type": "code",
   "execution_count": 161,
   "metadata": {},
   "outputs": [],
   "source": [
    "def Frequency_of_frequencies(bigrams):\n",
    "    N = {}\n",
    "    arr = []\n",
    "    for i in bigrams.keys():\n",
    "        N[bigrams[i]] = N.get(bigrams[i], 0) + 1\n",
    "    for i in N.keys():\n",
    "        if (i > 10):\n",
    "            arr.append([i, N[i]])\n",
    "    N[0] = total_unigrams**2 - total_bigrams\n",
    "    return N, arr"
   ]
  },
  {
   "cell_type": "code",
   "execution_count": 162,
   "metadata": {},
   "outputs": [],
   "source": [
    "N, arr = Frequency_of_frequencies(bigrams)"
   ]
  },
  {
   "cell_type": "code",
   "execution_count": 163,
   "metadata": {},
   "outputs": [],
   "source": [
    "def f(x, a, b, m):\n",
    "    return m*((x+a)**b)+0.5\n",
    "\n",
    "def Fof_approximation(arr):\n",
    "    arr.sort(key = lambda x:x[0])\n",
    "    popt, pcov = curve_fit(f, [i[0] for i in arr], [i[1] for i in arr], p0=(-9.0,-1.0, 714.0))\n",
    "\n",
    "    X = [i for i in range(10, 505, 2)]\n",
    "    Y = [f(i, *popt) for i in X]\n",
    "    \n",
    "    plt.figure(figsize=(20,10))\n",
    "    plt.scatter([i[0] for i in arr[:-2]], [i[1] for i in arr[:-2]])\n",
    "    plt.bar([i[0] for i in arr[:-2]], [i[1] for i in arr[:-2]])\n",
    "    plt.plot(X, Y, color='red', linewidth=3)\n",
    "    return popt"
   ]
  },
  {
   "cell_type": "code",
   "execution_count": 164,
   "metadata": {},
   "outputs": [
    {
     "data": {
      "image/png": "[encoded data removed]",
      "text/plain": [
       "<Figure size 1440x720 with 1 Axes>"
      ]
     },
     "metadata": {},
     "output_type": "display_data"
    }
   ],
   "source": [
    "popt = Fof_approximation(arr)"
   ]
  },
  {
   "cell_type": "code",
   "execution_count": 165,
   "metadata": {},
   "outputs": [],
   "source": [
    "def GoodTuring(frequency, N, popt):\n",
    "    try:\n",
    "        n = N[frequency]\n",
    "    except KeyError:\n",
    "        n = f(frequency, *popt)\n",
    "    try:\n",
    "        m = N[frequency+1]\n",
    "    except KeyError:\n",
    "        m = f(frequency+1, *popt)\n",
    "    c = (frequency+1)*(m/n)\n",
    "    return c"
   ]
  },
  {
   "cell_type": "code",
   "execution_count": 166,
   "metadata": {},
   "outputs": [
    {
     "name": "stdout",
     "output_type": "stream",
     "text": [
      "8.657407407407408\n"
     ]
    }
   ],
   "source": [
    "print (GoodTuring(10, N, popt))"
   ]
  },
  {
   "cell_type": "code",
   "execution_count": 167,
   "metadata": {},
   "outputs": [],
   "source": [
    "d = []\n",
    "for i in range(1,11):\n",
    "    d.append(i-GoodTuring(i, N, popt))"
   ]
  },
  {
   "cell_type": "code",
   "execution_count": 168,
   "metadata": {},
   "outputs": [
    {
     "name": "stdout",
     "output_type": "stream",
     "text": [
      "1.0503351288333451\n"
     ]
    }
   ],
   "source": [
    "print (np.mean(d))"
   ]
  },
  {
   "cell_type": "code",
   "execution_count": 176,
   "metadata": {},
   "outputs": [],
   "source": [
    "def Perplexity(sentence, mode):\n",
    "    sentence = text.split()\n",
    "    p = 0\n",
    "    if (mode == 1):\n",
    "        for i in range(len(sentence)-1):\n",
    "            p += math.log((GoodTuring(bigrams.get(' '.join(sentence[i:i+2]), 0), N, popt))/float(unigrams[sentence[i]]))\n",
    "    \n",
    "    else:\n",
    "        for i in range(len(sentence)-1):\n",
    "            p += math.log(add1_smoothed_count(' '.join(sentence[i:i+2]))/float(unigrams[sentence[i]]))\n",
    "        \n",
    "    return math.exp((-1*p)/(len(sentence)-2))"
   ]
  },
  {
   "cell_type": "code",
   "execution_count": 177,
   "metadata": {},
   "outputs": [
    {
     "name": "stdout",
     "output_type": "stream",
     "text": [
      "14.246927360213437\n"
     ]
    }
   ],
   "source": [
    "print (Perplexity('<s> it is my strong impression that i left this door shut just now </s>', 1))"
   ]
  },
  {
   "cell_type": "code",
   "execution_count": 172,
   "metadata": {},
   "outputs": [],
   "source": [
    "GT = []\n",
    "A1S = []\n",
    "for i in test:\n",
    "    try:\n",
    "        GT.append(Perplexity(i, 1))\n",
    "        A1S.append(Perplexity(i, 0))\n",
    "    except:\n",
    "        continue"
   ]
  },
  {
   "cell_type": "code",
   "execution_count": null,
   "metadata": {},
   "outputs": [],
   "source": []
  }
 ],
 "metadata": {
  "kernelspec": {
   "display_name": "Python 3",
   "language": "python",
   "name": "python3"
  },
  "language_info": {
   "codemirror_mode": {
    "name": "ipython",
    "version": 3
   },
   "file_extension": ".py",
   "mimetype": "text/x-python",
   "name": "python",
   "nbconvert_exporter": "python",
   "pygments_lexer": "ipython3",
   "version": "3.6.6"
  }
 },
 "nbformat": 4,
 "nbformat_minor": 2
}
