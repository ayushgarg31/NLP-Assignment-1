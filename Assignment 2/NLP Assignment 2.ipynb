{
 "cells": [
  {
   "cell_type": "markdown",
   "metadata": {},
   "source": [
    "# Assignment 2"
   ]
  },
  {
   "cell_type": "markdown",
   "metadata": {},
   "source": [
    "### Importing libraries"
   ]
  },
  {
   "cell_type": "code",
   "execution_count": 238,
   "metadata": {},
   "outputs": [],
   "source": [
    "import re\n",
    "import math\n",
    "import nltk\n",
    "import random\n",
    "import numpy as np\n",
    "import matplotlib.pyplot as plt\n",
    "from scipy.optimize import curve_fit\n",
    "from nltk.tokenize import sent_tokenize"
   ]
  },
  {
   "cell_type": "markdown",
   "metadata": {},
   "source": [
    "### Data preprocessing"
   ]
  },
  {
   "cell_type": "code",
   "execution_count": 239,
   "metadata": {},
   "outputs": [],
   "source": [
    "# Import the file to work upon\n",
    "file = open(\"sherlock.txt\", 'r', encoding=\"utf8\")\n",
    "# Tokenize the text into sentences and store them\n",
    "sentence_list = sent_tokenize(file.read())\n",
    "# Close the file\n",
    "file.close()\n",
    "\n",
    "special_chars = re.compile('[`~!@#$%^&*()+={}|\\[\\]:\";<>?,\\./“”]')\n",
    "\n",
    "# Do some text preprocessing - remove special characters, add <s> at start and </s> at end of sentence and lower the case\n",
    "for i, item in enumerate(sentence_list):\n",
    "    text = item.replace(\"\\n\", \" \")\n",
    "    text = \"<s> \" + special_chars.sub(\"\", text) + \" </s>\"\n",
    "    text = text.lower()\n",
    "    sentence_list[i] = ' '.join(text.split())\n",
    "\n",
    "test = []\n",
    "train = []\n",
    "# Divide the dataset in to 80% train and 20% test set (every 5th sentence goes in the test set).\n",
    "for i, item in enumerate(sentence_list):\n",
    "    if (i%5 == 0):\n",
    "        test.append(item)\n",
    "    else:\n",
    "        train.append(item)"
   ]
  },
  {
   "cell_type": "markdown",
   "metadata": {},
   "source": [
    "### N-grams retrieval and Maximum Likelihood Estimation calculation"
   ]
  },
  {
   "cell_type": "markdown",
   "metadata": {},
   "source": [
    "##### Functions"
   ]
  },
  {
   "cell_type": "code",
   "execution_count": 241,
   "metadata": {},
   "outputs": [],
   "source": [
    "# Function for retrieving n-grams from the text and their individual as well as total count.\n",
    "def n_grams(lst, n):\n",
    "    count = {}\n",
    "    total_count = 0\n",
    "    for i, item in enumerate(lst):\n",
    "        x = item.split()\n",
    "        for j in range(len(x)-n+1):\n",
    "            y = []\n",
    "            for k in range(n):\n",
    "                y.append(x[j+k])\n",
    "                s = \" \".join(y)\n",
    "            count[s] = count.get(s, 0) + 1\n",
    "            total_count += 1\n",
    "    return count, total_count\n",
    "\n",
    "\n",
    "# Function to calculate the Maximum likelihood estimation for n-grams in the corpus.\n",
    "def MLE_calculation(n_grams, n_1_grams):\n",
    "    MLE = {}\n",
    "    for i in n_grams.keys():\n",
    "        lst = i.split()\n",
    "        MLE[i] = n_grams[i]/n_1_grams[' '.join(lst[:len(lst)-1])]\n",
    "    return MLE"
   ]
  },
  {
   "cell_type": "markdown",
   "metadata": {},
   "source": [
    "##### Calling the functions"
   ]
  },
  {
   "cell_type": "code",
   "execution_count": 242,
   "metadata": {},
   "outputs": [],
   "source": [
    "# Calculate the unigrams, bigrams, trigrams and quadgrams and their individual as well as total count for the train set\n",
    "unigrams, total_unigrams = n_grams(train, 1)\n",
    "bigrams, total_bigrams = n_grams(train, 2)\n",
    "trigrams, total_trigrams = n_grams(train, 3)\n",
    "quadgrams, total_quadgrams = n_grams(train, 4)"
   ]
  },
  {
   "cell_type": "code",
   "execution_count": 252,
   "metadata": {},
   "outputs": [],
   "source": [
    "# Calculate MLE for all the n-grams in the train set.\n",
    "# Note - The function MLE_calculation() does not work for unigrams, hence the case is handled separately.\n",
    "MLE_unigrams = {}\n",
    "for i in unigrams.keys():\n",
    "    MLE_unigrams[i] = unigrams[i]/total_unigrams\n",
    "    \n",
    "MLE_bigrams = MLE_calculation(bigrams, unigrams)\n",
    "MLE_trigrams = MLE_calculation(trigrams, bigrams)\n",
    "MLE_quadgrams = MLE_calculation(quadgrams, trigrams)"
   ]
  },
  {
   "cell_type": "markdown",
   "metadata": {},
   "source": [
    "### Text Generation"
   ]
  },
  {
   "cell_type": "markdown",
   "metadata": {},
   "source": [
    "##### Functions"
   ]
  },
  {
   "cell_type": "code",
   "execution_count": 253,
   "metadata": {},
   "outputs": [],
   "source": [
    "# Converts the currently existing MLE_ngrams dictionary data structure into a different one which assists afterwards.\n",
    "def conversion(n_grams):\n",
    "    d = {}\n",
    "    for i in n_grams.keys():\n",
    "        j = i.split()\n",
    "        k = j.pop(len(j)-1)\n",
    "        j = ' '.join(j)\n",
    "        if (j in d):\n",
    "            d[j][0].append(k)\n",
    "            d[j][1].append(n_grams[i])\n",
    "        else:\n",
    "            d[j] = [[],[]]\n",
    "            d[j][0].append(k)\n",
    "            d[j][1].append(n_grams[i])\n",
    "    return d\n",
    "\n",
    "# A function which when called returns the next word which is to added in the sentence on basis of some protocols.\n",
    "def next_word(n, last_n_1_gram):\n",
    "    l = [[],[]]\n",
    "    if (n == 1):\n",
    "        l[0] = uni\n",
    "        l[1] = probab\n",
    "    if (n == 2):\n",
    "        l = bi[last_n_1_gram]\n",
    "    if (n == 3):\n",
    "        l = tri[last_n_1_gram]\n",
    "    if (n == 4):\n",
    "        l = quad[last_n_1_gram]\n",
    "        \n",
    "    candidates = np.array(l[0])\n",
    "    probabilities = np.array(l[1])\n",
    "    word = np.random.choice(candidates, p=probabilities)\n",
    "    return word\n",
    "\n",
    "# The function which decides when and how to call next_word() function recursively and when the string is complete.\n",
    "def string_Generator(n, string, last_n_1_gram):\n",
    "    word = next_word(n, last_n_1_gram)\n",
    "    if (word != \"<s>\"):\n",
    "        string = string + \" \" + word\n",
    "        last_n_1_gram = last_n_1_gram.split()\n",
    "        last_n_1_gram.append(word)\n",
    "        last_n_1_gram = ' '.join(last_n_1_gram[1:])\n",
    "    if (word == \"</s>\"):\n",
    "        return string\n",
    "    else:\n",
    "        return string_Generator(n, string, last_n_1_gram)\n",
    "\n",
    "# The main function and the only one which the user needs to use. It contains protocols of how to use all the funtions.\n",
    "def Generator(n):\n",
    "    string = \"<s>\"\n",
    "    if (n == 3):\n",
    "        word = next_word(2, string)\n",
    "        string = string + \" \" + word\n",
    "        if (word == \"</s>\"):\n",
    "            return string\n",
    "    elif (n == 4):\n",
    "        word = next_word(2, string)\n",
    "        string = string + \" \" + word\n",
    "        if (word == \"</s>\"):\n",
    "            return string\n",
    "        word = next_word(3, string)\n",
    "        string = string + \" \" + word\n",
    "        if (word == \"</s>\"):\n",
    "            return string\n",
    "\n",
    "    string = string_Generator(n, string, string)\n",
    "    return string"
   ]
  },
  {
   "cell_type": "markdown",
   "metadata": {},
   "source": [
    "##### Calling the functions"
   ]
  },
  {
   "cell_type": "code",
   "execution_count": 254,
   "metadata": {},
   "outputs": [],
   "source": [
    "# Preprocessing for the functions. Mainly calling the conversion() function to get the desired format of data.\n",
    "uni = []\n",
    "probab = []\n",
    "for i in MLE_unigrams.keys():\n",
    "    uni.append(i)\n",
    "    probab.append(MLE_unigrams[i])\n",
    "bi = conversion(MLE_bigrams)\n",
    "tri = conversion(MLE_trigrams)\n",
    "quad = conversion(MLE_quadgrams)"
   ]
  },
  {
   "cell_type": "code",
   "execution_count": 261,
   "metadata": {},
   "outputs": [
    {
     "name": "stdout",
     "output_type": "stream",
     "text": [
      "<s> it is past ten however and quite time that we arranged our little plans </s>\n",
      "<s> you'll come with me watson but i fear that neville st clair through the window there is no human eye which could have seen the police </s>\n",
      "<s> we never thought that she would send it on the table waiting for him </s>\n",
      "<s> but in any case we have a seven-mile drive before us </s>\n",
      "<s> i thought at first that you had returned from bristol </s>\n",
      "<s> just tell us the truth he said </s>\n",
      "<s> there must be some strong reason behind </s>\n",
      "<s> holmes was silent and buried in thought with a pained expression upon his aristocratic features </s>\n",
      "<s> about nine o'clock the light among the trees </s>\n",
      "<s> it--it's not actionable he stammered </s>\n",
      "<s> that is it on the table waiting for him at the assizes </s>\n",
      "<s> and what do you think they found in the pockets </s>\n",
      "<s> 'perhaps you will have the goodness to touch the bell doctor we will begin it by presuming that what the lad says is absolutely true </s>\n",
      "<s> oh no sir </s>\n",
      "<s> i have never denied him a wish </s>\n"
     ]
    }
   ],
   "source": [
    "# Calling the Generator() function to get generated sentences.\n",
    "for i in range(15):\n",
    "    print (Generator(4))"
   ]
  },
  {
   "cell_type": "markdown",
   "metadata": {},
   "source": [
    "### Probability Estimation\n",
    "#### Note - The result is in log10 space as the probability might be too small to store."
   ]
  },
  {
   "cell_type": "markdown",
   "metadata": {},
   "source": [
    "##### Functions"
   ]
  },
  {
   "cell_type": "code",
   "execution_count": 294,
   "metadata": {},
   "outputs": [],
   "source": [
    "# The function which returns the probability of a sentence using the n-gram model specified by the user.\n",
    "def Probability(sentence, n):\n",
    "    sentence = sentence.split()\n",
    "    p = 0\n",
    "    try:\n",
    "        if (n == 1):\n",
    "            prob = MLE_unigrams\n",
    "            p = -1*math.log10(prob['<s>'])\n",
    "        elif (n == 2):\n",
    "            prob = MLE_bigrams\n",
    "        elif (n == 3):\n",
    "            prob = MLE_trigrams\n",
    "            p += math.log10(MLE_bigrams.get(' '.join(sentence[0:2]), 0))\n",
    "        else:\n",
    "            prob = MLE_quadgrams\n",
    "            p += math.log10(MLE_bigrams.get(' '.join(sentence[0:2]), 0))\n",
    "            p += math.log10(MLE_trigrams.get(' '.join(sentence[0:3]), 0))\n",
    "        for i in range(len(sentence)-n+1):\n",
    "            n_gram = ' '.join(sentence[i:i+n])\n",
    "            p += math.log10(prob.get(n_gram, 0))\n",
    "        return p\n",
    "    except ValueError:\n",
    "        print ('-infinity (sentence not possible.)')\n",
    "        return"
   ]
  },
  {
   "cell_type": "markdown",
   "metadata": {},
   "source": [
    "##### An example on how to call the function"
   ]
  },
  {
   "cell_type": "code",
   "execution_count": 297,
   "metadata": {},
   "outputs": [
    {
     "name": "stdout",
     "output_type": "stream",
     "text": [
      "-5.886113345479569\n"
     ]
    }
   ],
   "source": [
    "print (Probability('<s> and what do you think they found in the pockets </s>', 4))"
   ]
  },
  {
   "cell_type": "markdown",
   "metadata": {},
   "source": [
    "## Smoothing Techninques"
   ]
  },
  {
   "cell_type": "markdown",
   "metadata": {},
   "source": [
    "### Expanding vocabulary to n-grams which are in test set but not in train set to be smoothed.\n",
    "##### Functions"
   ]
  },
  {
   "cell_type": "code",
   "execution_count": 298,
   "metadata": {},
   "outputs": [],
   "source": [
    "# To play safe we didn't not include the vocabulary exclusively in test set but now as we will be smoothing we can now include them\n",
    "def expand_vocab(test, count, total, n):\n",
    "    for i, item in enumerate(test):\n",
    "        x = item.split()\n",
    "        for j in range(len(x)-n+1):\n",
    "            count[' '.join(x[j:j+n])] = count.get(' '.join(x[j:j+n]), 0)\n",
    "            total += 1\n",
    "    return count, total"
   ]
  },
  {
   "cell_type": "markdown",
   "metadata": {},
   "source": [
    "##### Calling the function"
   ]
  },
  {
   "cell_type": "code",
   "execution_count": 306,
   "metadata": {},
   "outputs": [],
   "source": [
    "unigrams, total_unigrams = expand_vocab(test, unigrams, total_unigrams, 1)\n",
    "bigrams, total_bigrams = expand_vocab(test, bigrams, total_bigrams, 2)"
   ]
  },
  {
   "cell_type": "markdown",
   "metadata": {},
   "source": [
    "### Add-1 Smoothing (specifically for bigrams)"
   ]
  },
  {
   "cell_type": "markdown",
   "metadata": {},
   "source": [
    "##### Functions"
   ]
  },
  {
   "cell_type": "code",
   "execution_count": 307,
   "metadata": {},
   "outputs": [],
   "source": [
    "# This functions gives the smoothed out value of probability and corresponding effective count of the bigram.\n",
    "def add1_smoothed_count(bi_gram):\n",
    "    first = bi_gram.split()\n",
    "    first = first[0]\n",
    "    return (1+bigrams.get(bi_gram, 0))/(unigrams.get(first, 0)+len(unigrams.keys())), ((1+bigrams.get(bi_gram, 0))/(unigrams.get(first, 0)+len(unigrams.keys())))*unigrams.get(first, 0)"
   ]
  },
  {
   "cell_type": "markdown",
   "metadata": {},
   "source": [
    "##### An example of add-1 smoothing over a bigram"
   ]
  },
  {
   "cell_type": "code",
   "execution_count": 309,
   "metadata": {},
   "outputs": [
    {
     "name": "stdout",
     "output_type": "stream",
     "text": [
      "(0.024615082867510053, 32.27037363930568)\n",
      "250\n"
     ]
    }
   ],
   "source": [
    "print (add1_smoothed_count('it is'))\n",
    "print (bigrams.get('it is'))"
   ]
  },
  {
   "cell_type": "markdown",
   "metadata": {},
   "source": [
    "### Good Turing Smoothing"
   ]
  },
  {
   "cell_type": "markdown",
   "metadata": {},
   "source": [
    "##### Functions"
   ]
  },
  {
   "cell_type": "code",
   "execution_count": 310,
   "metadata": {},
   "outputs": [],
   "source": [
    "# Calculates the frequency of frequency matrix.\n",
    "def Frequency_of_frequencies(n_grams):\n",
    "    N = {}\n",
    "    arr = []\n",
    "    for i in n_grams.keys():\n",
    "        N[n_grams[i]] = N.get(n_grams[i], 0) + 1\n",
    "    for i in N.keys():\n",
    "        if (i > 10):\n",
    "            arr.append([i, N[i]])\n",
    "    return N, arr\n",
    "\n",
    "# The structure of the function we will try to fit in the FOF models\n",
    "def f(x, a, b, m):\n",
    "    return m*((x+a)**b)+0.5\n",
    "\n",
    "# Calculates the optimal value of parameters for the function f() and also plots the results for better visualization.\n",
    "def Fof_approximation(arr):\n",
    "    arr.sort(key = lambda x:x[0])\n",
    "    popt, pcov = curve_fit(f, [i[0] for i in arr], [i[1] for i in arr], p0=(-9.0,-1.0, 0.0))\n",
    "\n",
    "    X = [i for i in range(arr[0][0], arr[-3][0], 2)]\n",
    "    Y = [f(i, *popt) for i in X]\n",
    "    \n",
    "    plt.figure(figsize=(20,10))\n",
    "    plt.scatter([i[0] for i in arr[:-2]], [i[1] for i in arr[:-2]])\n",
    "    plt.bar([i[0] for i in arr[:-2]], [i[1] for i in arr[:-2]])\n",
    "    plt.plot(X, Y, color='red', linewidth=3)\n",
    "    return popt\n",
    "\n",
    "# This functions gives the smoothed out value of effective count of the n-gram\n",
    "def GoodTuring(frequency, N, popt):\n",
    "    try:\n",
    "        n = N[frequency]\n",
    "    except KeyError:\n",
    "        n = f(frequency, *popt)\n",
    "    try:\n",
    "        m = N[frequency+1]\n",
    "    except KeyError:\n",
    "        m = f(frequency+1, *popt)\n",
    "    c = (frequency+1)*(m/n)\n",
    "    return c"
   ]
  },
  {
   "cell_type": "markdown",
   "metadata": {},
   "source": [
    "##### Calling the functions"
   ]
  },
  {
   "cell_type": "code",
   "execution_count": 312,
   "metadata": {},
   "outputs": [],
   "source": [
    "# Calculate the frequency of frequency modules\n",
    "N1, arr1 = Frequency_of_frequencies(unigrams)\n",
    "N2, arr2 = Frequency_of_frequencies(bigrams)"
   ]
  },
  {
   "cell_type": "code",
   "execution_count": 313,
   "metadata": {},
   "outputs": [
    {
     "data": {
      "image/png": "[encoded data removed]",
      "text/plain": [
       "<Figure size 1440x720 with 1 Axes>"
      ]
     },
     "metadata": {},
     "output_type": "display_data"
    }
   ],
   "source": [
    "# Calculate the optimal fit of the function for unigrams\n",
    "popt_unigram = Fof_approximation(arr1)"
   ]
  },
  {
   "cell_type": "code",
   "execution_count": 314,
   "metadata": {},
   "outputs": [
    {
     "data": {
      "image/png": "[encoded data removed]",
      "text/plain": [
       "<Figure size 1440x720 with 1 Axes>"
      ]
     },
     "metadata": {},
     "output_type": "display_data"
    }
   ],
   "source": [
    "# Calculate the optimal fit of the function for bigrams\n",
    "popt_bigram = Fof_approximation(arr2)"
   ]
  },
  {
   "cell_type": "code",
   "execution_count": 320,
   "metadata": {},
   "outputs": [
    {
     "name": "stdout",
     "output_type": "stream",
     "text": [
      "8.724137931034484\n"
     ]
    }
   ],
   "source": [
    "# An example of calling the GoodTuring for frequency 10, unigrams\n",
    "print (GoodTuring(10, N1, popt_unigram))"
   ]
  },
  {
   "cell_type": "markdown",
   "metadata": {},
   "source": [
    "### Estimation of d (discounting value)"
   ]
  },
  {
   "cell_type": "code",
   "execution_count": 321,
   "metadata": {},
   "outputs": [
    {
     "name": "stdout",
     "output_type": "stream",
     "text": [
      "0.7003073293390867\n",
      "0.8471100062150405\n",
      "1.091644204851752\n",
      "1.0508474576271185\n",
      "0.8735632183908049\n",
      "0.8523676880222837\n",
      "0.9696969696969697\n",
      "0.8994974874371859\n",
      "1.547770700636943\n"
     ]
    }
   ],
   "source": [
    "d = []\n",
    "for i in range(1,10):\n",
    "    print (i-GoodTuring(i, N2, popt_bigram))\n",
    "    d.append(i-GoodTuring(i, N2, popt_bigram))"
   ]
  },
  {
   "cell_type": "code",
   "execution_count": 322,
   "metadata": {},
   "outputs": [
    {
     "name": "stdout",
     "output_type": "stream",
     "text": [
      "0.9814227846907984 0.22850297429538508\n"
     ]
    }
   ],
   "source": [
    "print (np.mean(d), np.std(d))"
   ]
  },
  {
   "cell_type": "markdown",
   "metadata": {},
   "source": [
    "### Perplexity calculation"
   ]
  },
  {
   "cell_type": "markdown",
   "metadata": {},
   "source": [
    "##### Functions"
   ]
  },
  {
   "cell_type": "code",
   "execution_count": 323,
   "metadata": {},
   "outputs": [],
   "source": [
    "# The functions which calculates the perplexity of a sentence using add-1 if mode is 0 and using good turing if mode is 1.\n",
    "def Perplexity(sentence, mode):\n",
    "    sentence = sentence.split()\n",
    "    p = 0\n",
    "    if (mode == 1):\n",
    "        for i in range(len(sentence)-1):\n",
    "            p += math.log((GoodTuring(bigrams.get(' '.join(sentence[i:i+2]), 0), N2, popt_bigram))/GoodTuring(unigrams[sentence[i]], N1, popt_unigram))\n",
    "    \n",
    "    else:\n",
    "        for i in range(len(sentence)-1):\n",
    "            p += math.log(add1_smoothed_count(' '.join(sentence[i:i+2]))[0])\n",
    "        \n",
    "    return math.exp((-1*p)/(len(sentence)))"
   ]
  },
  {
   "cell_type": "markdown",
   "metadata": {},
   "source": [
    "##### An example of how to call the Perplexity function"
   ]
  },
  {
   "cell_type": "code",
   "execution_count": 324,
   "metadata": {},
   "outputs": [
    {
     "name": "stdout",
     "output_type": "stream",
     "text": [
      "35.86971061515742\n"
     ]
    }
   ],
   "source": [
    "print (Perplexity('<s> it is my strong impression that i left this door shut just now </s>', 1))"
   ]
  },
  {
   "cell_type": "markdown",
   "metadata": {},
   "source": [
    "#### Calculating the average perplexity values using Good Turing and Add-1 Smoothing over the test set."
   ]
  },
  {
   "cell_type": "code",
   "execution_count": 236,
   "metadata": {},
   "outputs": [],
   "source": [
    "GT = []\n",
    "A1S = []\n",
    "for i in test:\n",
    "    GT.append(Perplexity(i, 1))\n",
    "    A1S.append(Perplexity(i, 0))"
   ]
  },
  {
   "cell_type": "code",
   "execution_count": 237,
   "metadata": {},
   "outputs": [
    {
     "name": "stdout",
     "output_type": "stream",
     "text": [
      "152.11432702982037 1036236.7572074428\n"
     ]
    }
   ],
   "source": [
    "print (np.mean(GT), np.mean(A1S))"
   ]
  },
  {
   "cell_type": "code",
   "execution_count": null,
   "metadata": {},
   "outputs": [],
   "source": []
  }
 ],
 "metadata": {
  "kernelspec": {
   "display_name": "Python 3",
   "language": "python",
   "name": "python3"
  },
  "language_info": {
   "codemirror_mode": {
    "name": "ipython",
    "version": 3
   },
   "file_extension": ".py",
   "mimetype": "text/x-python",
   "name": "python",
   "nbconvert_exporter": "python",
   "pygments_lexer": "ipython3",
   "version": "3.6.6"
  }
 },
 "nbformat": 4,
 "nbformat_minor": 2
}
